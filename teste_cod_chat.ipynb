{
 "cells": [
  {
   "cell_type": "code",
   "execution_count": 3,
   "metadata": {},
   "outputs": [
    {
     "name": "stdout",
     "output_type": "stream",
     "text": [
      "Nenhum preço foi encontrado.\n"
     ]
    }
   ],
   "source": [
    "from selenium import webdriver\n",
    "from selenium.webdriver.chrome.service import Service\n",
    "from webdriver_manager.chrome import ChromeDriverManager\n",
    "from selenium.webdriver.chrome.options import Options\n",
    "from bs4 import BeautifulSoup\n",
    "\n",
    "chrome_options = Options()\n",
    "chrome_options.add_argument(\"--headless\")  # Especifica o modo headless\n",
    "driver = webdriver.Chrome(service=Service(ChromeDriverManager().install()), options=chrome_options)\n",
    "\n",
    "# URL do Skyscanner\n",
    "url = \"https://www.skyscanner.com.br/transporte/passagens-aereas/fln/mad/250222/250307/?adultsv2=1&cabinclass=economy&childrenv2=&ref=home&rtn=1&preferdirects=false&outboundaltsenabled=false&inboundaltsenabled=false\"\n",
    "\n",
    "try:\n",
    "    # Acessar o site\n",
    "    driver.get(url)\n",
    "    \n",
    "    # Obter o conteúdo HTML da página\n",
    "    html_content = driver.page_source\n",
    "    \n",
    "    # Usar o BeautifulSoup para fazer o parsing do HTML\n",
    "    soup = BeautifulSoup(html_content, 'html.parser')\n",
    "    \n",
    "    # Procurar pelos preços (supondo que os preços estão em um elemento com uma classe específica)\n",
    "    price_elements = soup.find_all(class_=\"BpkText_bpk-text__ODgwN BpkText_bpk-text--lg__ZTY1M\")\n",
    "    \n",
    "    # Extrair os preços e converter para valores numéricos\n",
    "    prices = []\n",
    "    for price_element in price_elements:\n",
    "        price_text = price_element.get_text()\n",
    "        price_value = float(price_text.replace(\"R$\", \"\").replace(\".\", \"\").replace(\",\", \".\").strip())\n",
    "        prices.append(price_value)\n",
    "    \n",
    "    # Encontrar o preço mais barato\n",
    "    if prices:\n",
    "        cheapest_price = min(prices)\n",
    "        print(f\"O preço mais barato encontrado é: R${cheapest_price}\")\n",
    "    else:\n",
    "        print(\"Nenhum preço foi encontrado.\")\n",
    "    \n",
    "except Exception as e:\n",
    "    print(f\"Ocorreu um erro: {e}\")\n",
    "\n",
    "finally:\n",
    "    # Fechar o navegador\n",
    "    driver.quit()\n"
   ]
  },
  {
   "cell_type": "code",
   "execution_count": 8,
   "metadata": {},
   "outputs": [
    {
     "name": "stdout",
     "output_type": "stream",
     "text": [
      "<html><head><title>viajanet.com.br</title><style>#cmsg{animation: A 1.5s;}@keyframes A{0%{opacity:0;}99%{opacity:0;}100%{opacity:1;}}</style><meta name=\"viewport\" content=\"width=device-width, initial-scale=1.0\"></head><body style=\"margin:0\"><script data-cfasync=\"false\">var dd={'rt':'c','cid':'AHrlqAAAAAMArw-gS0p4TY4Av_sp8Q==','hsh':'3AAEF2D1471C74CB6D2B00AC17D6B6','t':'fe','s':42918,'e':'c92ec48527d314b6d1459722038d26c80e9604fc268d2ba5f7601f49f958e6d0','host':'geo.captcha-delivery.com','cookie':'3C1H1xGTpApeiPUgfr4WZ4sSaqjzHlApmDkjiH6aWZaXmUv4MpS4gkPwSCCalnNWUgFvcr5R9mNA~1ltk02OhkmKC_uS1WxhLBKE7bRiMeMBJtfKLv0NF6RbIlwOXT9F'}</script><script data-cfasync=\"false\" src=\"https://ct.captcha-delivery.com/c.js\"></script><iframe src=\"https://geo.captcha-delivery.com/captcha/?initialCid=AHrlqAAAAAMArw-gS0p4TY4Av_sp8Q%3D%3D&amp;hash=3AAEF2D1471C74CB6D2B00AC17D6B6&amp;cid=3C1H1xGTpApeiPUgfr4WZ4sSaqjzHlApmDkjiH6aWZaXmUv4MpS4gkPwSCCalnNWUgFvcr5R9mNA~1ltk02OhkmKC_uS1WxhLBKE7bRiMeMBJtfKLv0NF6RbIlwOXT9F&amp;t=fe&amp;referer=https%3A%2F%2Fwww.viajanet.com.br%2Fshop%2Fflights%2Fresults%2Froundtrip%2FFLN%2FMAD%2F2025-02-22%2F2025-03-07%2F1%2F0%2F0%3Ffrom%3DSB%26di%3D1%26additional_products%3DNOT_INCLUDED%26reSearch%3Dtrue&amp;s=42918&amp;e=c92ec48527d314b6d1459722038d26c80e9604fc268d2ba5f7601f49f958e6d0&amp;dm=cd\" sandbox=\"allow-scripts allow-same-origin allow-forms\" width=\"100%\" height=\"100%\" style=\"height:100vh;\" frameborder=\"0\" border=\"0\" scrolling=\"yes\"></iframe></body></html>\n"
     ]
    }
   ],
   "source": [
    "print(html_content)"
   ]
  },
  {
   "cell_type": "code",
   "execution_count": null,
   "metadata": {},
   "outputs": [],
   "source": []
  },
  {
   "cell_type": "code",
   "execution_count": 7,
   "metadata": {},
   "outputs": [
    {
     "name": "stdout",
     "output_type": "stream",
     "text": [
      "Nenhum preço foi encontrado.\n"
     ]
    }
   ],
   "source": [
    "from selenium import webdriver\n",
    "from selenium.webdriver.chrome.service import Service\n",
    "from selenium.webdriver.chrome.options import Options\n",
    "from bs4 import BeautifulSoup\n",
    "import time\n",
    "\n",
    "\n",
    "chrome_options = Options()\n",
    "chrome_options.add_argument(\"--headless\")  # Especifica o modo headless\n",
    "driver = webdriver.Chrome(service=Service(ChromeDriverManager().install()), options=chrome_options)\n",
    "\n",
    "# URL do Skiplagged\n",
    "url = \"https://www.viajanet.com.br/shop/flights/results/roundtrip/FLN/MAD/2025-02-22/2025-03-07/1/0/0?from=SB&di=1&additional_products=NOT_INCLUDED&reSearch=true\"\n",
    "\n",
    "try:\n",
    "    # Acessar o site\n",
    "    driver.get(url)\n",
    "    \n",
    "    # Aguardar o carregamento completo da página (definir um tempo para aguardar resultados)\n",
    "    time.sleep(10)  # Ajuste o tempo conforme necessário\n",
    "    \n",
    "    # Obter o conteúdo HTML da página\n",
    "    html_content = driver.page_source\n",
    "    \n",
    "    # Usar o BeautifulSoup para fazer o parsing do HTML\n",
    "    soup = BeautifulSoup(html_content, 'html.parser')\n",
    "    \n",
    "    # Procurar pelos preços (identificar a classe correta dos preços no site Skiplagged)\n",
    "    price_elements = soup.find_all(class_=\"price\")  # Verifique a classe correta\n",
    "    \n",
    "    # Extrair os preços e converter para valores numéricos\n",
    "    prices = []\n",
    "    for price_element in price_elements:\n",
    "        price_text = price_element.get_text()\n",
    "        price_value = float(price_text.replace(\"$\", \"\").replace(\",\", \"\").strip())\n",
    "        prices.append(price_value)\n",
    "    \n",
    "    # Encontrar o preço mais barato\n",
    "    if prices:\n",
    "        cheapest_price = min(prices)\n",
    "        print(f\"O preço mais barato encontrado é: ${cheapest_price}\")\n",
    "    else:\n",
    "        print(\"Nenhum preço foi encontrado.\")\n",
    "    \n",
    "except Exception as e:\n",
    "    print(f\"Ocorreu um erro: {e}\")\n",
    "\n",
    "finally:\n",
    "    # Fechar o navegador\n",
    "    driver.quit()\n"
   ]
  }
 ],
 "metadata": {
  "kernelspec": {
   "display_name": ".venv",
   "language": "python",
   "name": "python3"
  },
  "language_info": {
   "codemirror_mode": {
    "name": "ipython",
    "version": 3
   },
   "file_extension": ".py",
   "mimetype": "text/x-python",
   "name": "python",
   "nbconvert_exporter": "python",
   "pygments_lexer": "ipython3",
   "version": "3.12.4"
  }
 },
 "nbformat": 4,
 "nbformat_minor": 2
}
